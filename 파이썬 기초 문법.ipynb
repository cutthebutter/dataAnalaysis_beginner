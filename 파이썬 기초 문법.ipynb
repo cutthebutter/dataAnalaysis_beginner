{
 "cells": [
  {
   "cell_type": "markdown",
   "metadata": {},
   "source": [
    "# 변수와 자료형\n",
    "## 변수\n",
    "변수는 데이터를 담는 상자, 그 데이터는 숫자가 될수도, 문자가 될수도, 함수가 될 수도 있음"
   ]
  },
  {
   "cell_type": "code",
   "execution_count": 8,
   "metadata": {},
   "outputs": [],
   "source": [
    "a = 3\n",
    "b = 4\n",
    "c = \"hi\""
   ]
  },
  {
   "cell_type": "code",
   "execution_count": 65,
   "metadata": {},
   "outputs": [
    {
     "data": {
      "text/plain": [
       "4"
      ]
     },
     "execution_count": 65,
     "metadata": {},
     "output_type": "execute_result"
    }
   ],
   "source": [
    "f = 3\n",
    "f = 4\n",
    "f"
   ]
  },
  {
   "cell_type": "code",
   "execution_count": 66,
   "metadata": {},
   "outputs": [
    {
     "data": {
      "text/plain": [
       "12"
      ]
     },
     "execution_count": 66,
     "metadata": {},
     "output_type": "execute_result"
    }
   ],
   "source": [
    "a = 3\n",
    "b = 4\n",
    "a * b"
   ]
  },
  {
   "cell_type": "code",
   "execution_count": 10,
   "metadata": {},
   "outputs": [
    {
     "data": {
      "text/plain": [
       "12"
      ]
     },
     "execution_count": 10,
     "metadata": {},
     "output_type": "execute_result"
    }
   ],
   "source": [
    "d = a*b\n",
    "d"
   ]
  },
  {
   "cell_type": "code",
   "execution_count": 67,
   "metadata": {},
   "outputs": [
    {
     "data": {
      "text/plain": [
       "'hihihihi'"
      ]
     },
     "execution_count": 67,
     "metadata": {},
     "output_type": "execute_result"
    }
   ],
   "source": [
    "b = 4\n",
    "c = \"hi\"\n",
    "f= b*c\n",
    "f"
   ]
  },
  {
   "cell_type": "markdown",
   "metadata": {},
   "source": [
    "<변수를 만들 때 이름 권고 사항>\n",
    "- 의미있는 이름이면 좋아요 : 나중에 내가 코드를 다시 살펴보거나 다른 사람들이 내 코드를 봤을 때 이해하기 쉽도록 하기 위함\n",
    "- 소문자와 대문자는 서로 달라요\n",
    "- 문자로 시작해야하고 특수문자, 띄어쓰기는 불가능합니다(_는 가능)\n",
    "- 보통 cammel case 형태를 많이 사용합니다. : 시작 첫 글자는 소문자, 띄어쓰기 기준으로 대문자 시작 : pythonProject 등\n",
    "- 문자로 시작해야하고 변수명으로 특수문자, 띄어쓰기 사용은 불가능합니다(_는 가능)"
   ]
  },
  {
   "cell_type": "markdown",
   "metadata": {},
   "source": [
    "## 자료형\n",
    "### 숫자형\n",
    "1. 숫자형 종류\n",
    "- 정수형(int : 정수의 영어 integer의 앞글자 따옴) : 1, 0, -1 등 소수점이 없는 수\n",
    "- 실수형(float : 실수(부동소수점수)의 영어 floating point number 의 앞글자 따옴) : 3.14, -12.456 등 소수점이 있는 수"
   ]
  },
  {
   "cell_type": "code",
   "execution_count": 16,
   "metadata": {},
   "outputs": [
    {
     "name": "stdout",
     "output_type": "stream",
     "text": [
      "3+4 = 7\n",
      "4-2 = 2\n",
      "4*2 = 8\n",
      "5/2 = 2.5\n",
      "5//2 = 2\n",
      "5%2 = 1\n",
      "4**2 = 16\n"
     ]
    }
   ],
   "source": [
    "# 관련 연산자>\n",
    "\n",
    "# 더하기\n",
    "print(\"3+4 =\", 3+4)\n",
    "# 빼기\n",
    "print(\"4-2 =\", 4-2)\n",
    "# 곱하기\n",
    "print(\"4*2 =\", 4*2)\n",
    "# 나누기\n",
    "print(\"5/2 =\", 5/2)\n",
    "# 나누기의 몫 구하기\n",
    "print(\"5//2 =\", 5//2)\n",
    "# 나누기의 나머기 구하기\n",
    "print(\"5%2 =\", 5%2)\n",
    "# 지수(제곱수) \n",
    "print(\"4**2 =\",4**2 )"
   ]
  },
  {
   "cell_type": "markdown",
   "metadata": {},
   "source": [
    "### 문자열 \n",
    "- str : 문자가 나열된 줄이라는 영어 string의 앞 세글자를 따옴\n",
    "- python 내 표시 방법 : 작은따옴표(')나 큰 따옴표(\") 사용 -> 작은따옴표나 큰 따옴표 안에 들어있으면 문자열이라는 뜻"
   ]
  },
  {
   "cell_type": "code",
   "execution_count": 20,
   "metadata": {},
   "outputs": [
    {
     "name": "stdout",
     "output_type": "stream",
     "text": [
      "hello World\n",
      "hellohello\n"
     ]
    }
   ],
   "source": [
    "a = \"hello\"\n",
    "b = ' World'\n",
    "\n",
    "# 문자열 + 문자열\n",
    "print(a+b)\n",
    "# 문자열 * 양의 정수\n",
    "print(a*2)"
   ]
  },
  {
   "cell_type": "code",
   "execution_count": 27,
   "metadata": {},
   "outputs": [
    {
     "name": "stdout",
     "output_type": "stream",
     "text": [
      "\n",
      "1. 안녕하세요\n",
      "반갑습니다\n",
      "\n",
      "2. 안녕하세요\n",
      "반갑습니다\n"
     ]
    }
   ],
   "source": [
    "# 여러줄을 쓰려면 : 작은따옴표/큰따옴표 여러줄을 쓴다.\n",
    "print(\"\"\"\n",
    "1. 안녕하세요\n",
    "반갑습니다\n",
    "\"\"\")\n",
    "\n",
    "# 줄나눔을 하고 싶다면 \"\\n\" 사용\n",
    "print(\"2. 안녕하세요\\n반갑습니다\")"
   ]
  },
  {
   "cell_type": "markdown",
   "metadata": {},
   "source": [
    "### 논리형 (Boolean)\n",
    "- True(1) /False(0)"
   ]
  },
  {
   "cell_type": "code",
   "execution_count": 64,
   "metadata": {},
   "outputs": [
    {
     "name": "stdout",
     "output_type": "stream",
     "text": [
      "3>4 :  False\n",
      "3<4 :  True\n",
      "3<=3 :  True\n",
      "3<=4 :  True\n",
      "3>=3 :  True\n",
      "3>=4 :  False\n",
      "3==3 :  True\n",
      "3==4 :  False\n",
      "3!=3 :  False\n",
      "3!=4 :  True\n",
      "3==3 and 4==4 :  True\n",
      "3==3 and 4!=4 :  False\n",
      "3=!3 and 4!=4 :  False\n",
      "3==3 or 4==4 :  True\n",
      "3==3 or 4!=4 :  True\n",
      "3=!3 or 4!=4 :  False\n",
      "not((3==3) and (4==4)) :  False\n",
      "not((3==3) and (4!=4)):  True\n"
     ]
    }
   ],
   "source": [
    "#관련 연산자\n",
    "# 1. >, < : 초과, 미만\n",
    "print(\"3>4 : \", 3>4)\n",
    "print(\"3<4 : \", 3<4)\n",
    "\n",
    "#2. >=, <= : 이상, 이하\n",
    "print(\"3<=3 : \", 3<=3)\n",
    "print(\"3<=4 : \", 3<=4)\n",
    "print(\"3>=3 : \", 3>=3)\n",
    "print(\"3>=4 : \", 3>=4)\n",
    "\n",
    "# 3. == : 동일하다, 같다\n",
    "print(\"3==3 : \", 3==3)\n",
    "print(\"3==4 : \", 3==4)\n",
    "#cf.) 변수를 지정할 때는 = 하나, '같음을 표시'할 때는 = 두개(==)\n",
    "\n",
    "#4.  != : 다르다\n",
    "print(\"3!=3 : \",3!=3)\n",
    "print(\"3!=4 : \",3!=4)\n",
    "\n",
    "# 5. and : 연결된 조건이 모두 Ture일때 True, 하나라도 False면 False\n",
    "print(\"3==3 and 4==4 : \", (3==3) and (4==4))\n",
    "print(\"3==3 and 4!=4 : \", (3==3) and (4!=4))\n",
    "print(\"3=!3 and 4!=4 : \", (3!=3) and (4!=4))\n",
    "\n",
    "#6. or : 연결된 조건이 하나라도 True면 True, 모두 False면 False\n",
    "print(\"3==3 or 4==4 : \", (3==3) or (4==4))\n",
    "print(\"3==3 or 4!=4 : \", (3==3) or (4!=4))\n",
    "print(\"3=!3 or 4!=4 : \", (3!=3) or (4!=4))\n",
    "\n",
    "#7. not : 괄호 안이 True면 False, 괄호 안이 False면 True\n",
    "print(\"not((3==3) and (4==4)) : \", not((3==3) and (4==4)))\n",
    "print(\"not((3==3) and (4!=4)): \", not((3==3) and (4!=4)))"
   ]
  },
  {
   "cell_type": "code",
   "execution_count": null,
   "metadata": {},
   "outputs": [],
   "source": []
  }
 ],
 "metadata": {
  "kernelspec": {
   "display_name": "Python 3",
   "language": "python",
   "name": "python3"
  },
  "language_info": {
   "codemirror_mode": {
    "name": "ipython",
    "version": 3
   },
   "file_extension": ".py",
   "mimetype": "text/x-python",
   "name": "python",
   "nbconvert_exporter": "python",
   "pygments_lexer": "ipython3",
   "version": "3.8.1"
  },
  "toc": {
   "base_numbering": 1,
   "nav_menu": {
    "height": "179px",
    "width": "167px"
   },
   "number_sections": true,
   "sideBar": true,
   "skip_h1_title": false,
   "title_cell": "Table of Contents",
   "title_sidebar": "Contents",
   "toc_cell": false,
   "toc_position": {},
   "toc_section_display": true,
   "toc_window_display": false
  }
 },
 "nbformat": 4,
 "nbformat_minor": 4
}
