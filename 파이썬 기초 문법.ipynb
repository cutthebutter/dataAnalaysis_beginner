{
 "cells": [
  {
   "cell_type": "markdown",
   "metadata": {},
   "source": [
    "# 변수와 자료형\n",
    "## 변수\n",
    "변수는 데이터를 담는 상자, 그 데이터는 숫자가 될수도, 문자가 될수도, 함수가 될 수도 있음"
   ]
  },
  {
   "cell_type": "code",
   "execution_count": 8,
   "metadata": {},
   "outputs": [],
   "source": [
    "a = 3\n",
    "b = 4\n",
    "c = \"hi\""
   ]
  },
  {
   "cell_type": "code",
   "execution_count": 65,
   "metadata": {},
   "outputs": [
    {
     "data": {
      "text/plain": [
       "4"
      ]
     },
     "execution_count": 65,
     "metadata": {},
     "output_type": "execute_result"
    }
   ],
   "source": [
    "f = 3\n",
    "f = 4\n",
    "f"
   ]
  },
  {
   "cell_type": "code",
   "execution_count": 66,
   "metadata": {},
   "outputs": [
    {
     "data": {
      "text/plain": [
       "12"
      ]
     },
     "execution_count": 66,
     "metadata": {},
     "output_type": "execute_result"
    }
   ],
   "source": [
    "a = 3\n",
    "b = 4\n",
    "a * b"
   ]
  },
  {
   "cell_type": "code",
   "execution_count": 10,
   "metadata": {},
   "outputs": [
    {
     "data": {
      "text/plain": [
       "12"
      ]
     },
     "execution_count": 10,
     "metadata": {},
     "output_type": "execute_result"
    }
   ],
   "source": [
    "d = a*b\n",
    "d"
   ]
  },
  {
   "cell_type": "code",
   "execution_count": 67,
   "metadata": {},
   "outputs": [
    {
     "data": {
      "text/plain": [
       "'hihihihi'"
      ]
     },
     "execution_count": 67,
     "metadata": {},
     "output_type": "execute_result"
    }
   ],
   "source": [
    "b = 4\n",
    "c = \"hi\"\n",
    "f= b*c\n",
    "f"
   ]
  },
  {
   "cell_type": "markdown",
   "metadata": {},
   "source": [
    "<변수를 만들 때 이름 권고 사항>\n",
    "- 의미있는 이름이면 좋아요 : 나중에 내가 코드를 다시 살펴보거나 다른 사람들이 내 코드를 봤을 때 이해하기 쉽도록 하기 위함\n",
    "- 소문자와 대문자는 서로 달라요\n",
    "- 문자로 시작해야하고 특수문자, 띄어쓰기는 불가능합니다(_는 가능)\n",
    "- 보통 cammel case 형태를 많이 사용합니다. : 시작 첫 글자는 소문자, 띄어쓰기 기준으로 대문자 시작 : pythonProject 등\n",
    "- 문자로 시작해야하고 변수명으로 특수문자, 띄어쓰기 사용은 불가능합니다(_는 가능)"
   ]
  },
  {
   "cell_type": "markdown",
   "metadata": {},
   "source": [
    "## 자료형\n",
    "### 숫자형\n",
    "1. 숫자형 종류\n",
    "- 정수형(int : 정수의 영어 integer의 앞글자 따옴) : 1, 0, -1 등 소수점이 없는 수\n",
    "- 실수형(float : 실수(부동소수점수)의 영어 floating point number 의 앞글자 따옴) : 3.14, -12.456 등 소수점이 있는 수"
   ]
  },
  {
   "cell_type": "code",
   "execution_count": 6,
   "metadata": {
    "scrolled": true
   },
   "outputs": [
    {
     "name": "stdout",
     "output_type": "stream",
     "text": [
      "3+4 = 7\n",
      "4-2 = 2\n",
      "4*2 = 8\n",
      "5/2 = 2.5\n",
      "5//2 = 2\n",
      "5%2 = 1\n",
      "4**2 = 16\n"
     ]
    }
   ],
   "source": [
    "# 관련 연산자>\n",
    "\n",
    "# 더하기\n",
    "print(\"3+4 =\", 3+4)\n",
    "# 빼기\n",
    "print(\"4-2 =\", 4-2)\n",
    "# 곱하기\n",
    "print(\"4*2 =\", 4*2)\n",
    "# 나누기\n",
    "print(\"5/2 =\", 5/2)\n",
    "# 나누기의 몫 구하기\n",
    "print(\"5//2 =\", 5//2)\n",
    "# 나누기의 나머기 구하기\n",
    "print(\"5%2 =\", 5%2)\n",
    "# 지수(제곱수) \n",
    "print(\"4**2 =\",4**2 )"
   ]
  },
  {
   "cell_type": "markdown",
   "metadata": {},
   "source": [
    "### 문자열 \n",
    "- str : 문자가 나열된 줄이라는 영어 string의 앞 세글자를 따옴\n",
    "- python 내 표시 방법 : 작은따옴표(')나 큰 따옴표(\") 사용 -> 작은따옴표나 큰 따옴표 안에 들어있으면 문자열이라는 뜻"
   ]
  },
  {
   "cell_type": "code",
   "execution_count": 12,
   "metadata": {},
   "outputs": [
    {
     "name": "stdout",
     "output_type": "stream",
     "text": [
      "hello World\n",
      "hellohello\n"
     ]
    }
   ],
   "source": [
    "a = \"hello\"\n",
    "b = ' World'\n",
    "\n",
    "# 문자열 + 문자열\n",
    "print(a+b)\n",
    "# 문자열 * 양의 정수\n",
    "print(a*2)"
   ]
  },
  {
   "cell_type": "code",
   "execution_count": 27,
   "metadata": {},
   "outputs": [
    {
     "name": "stdout",
     "output_type": "stream",
     "text": [
      "\n",
      "1. 안녕하세요\n",
      "반갑습니다\n",
      "\n",
      "2. 안녕하세요\n",
      "반갑습니다\n"
     ]
    }
   ],
   "source": [
    "# 여러줄을 쓰려면 : 작은따옴표/큰따옴표 여러줄을 쓴다.\n",
    "print(\"\"\"\n",
    "1. 안녕하세요\n",
    "반갑습니다\n",
    "\"\"\")\n",
    "\n",
    "# 줄나눔을 하고 싶다면 \"\\n\" 사용\n",
    "print(\"2. 안녕하세요\\n반갑습니다\")"
   ]
  },
  {
   "cell_type": "markdown",
   "metadata": {},
   "source": [
    "### 논리형 (Boolean)\n",
    "- True(1) /False(0)"
   ]
  },
  {
   "cell_type": "code",
   "execution_count": 64,
   "metadata": {},
   "outputs": [
    {
     "name": "stdout",
     "output_type": "stream",
     "text": [
      "3>4 :  False\n",
      "3<4 :  True\n",
      "3<=3 :  True\n",
      "3<=4 :  True\n",
      "3>=3 :  True\n",
      "3>=4 :  False\n",
      "3==3 :  True\n",
      "3==4 :  False\n",
      "3!=3 :  False\n",
      "3!=4 :  True\n",
      "3==3 and 4==4 :  True\n",
      "3==3 and 4!=4 :  False\n",
      "3=!3 and 4!=4 :  False\n",
      "3==3 or 4==4 :  True\n",
      "3==3 or 4!=4 :  True\n",
      "3=!3 or 4!=4 :  False\n",
      "not((3==3) and (4==4)) :  False\n",
      "not((3==3) and (4!=4)):  True\n"
     ]
    }
   ],
   "source": [
    "#관련 연산자\n",
    "# 1. >, < : 초과, 미만\n",
    "print(\"3>4 : \", 3>4)\n",
    "print(\"3<4 : \", 3<4)\n",
    "\n",
    "#2. >=, <= : 이상, 이하\n",
    "print(\"3<=3 : \", 3<=3)\n",
    "print(\"3<=4 : \", 3<=4)\n",
    "print(\"3>=3 : \", 3>=3)\n",
    "print(\"3>=4 : \", 3>=4)\n",
    "\n",
    "# 3. == : 동일하다, 같다\n",
    "print(\"3==3 : \", 3==3)\n",
    "print(\"3==4 : \", 3==4)\n",
    "#cf.) 변수를 지정할 때는 = 하나, '같음을 표시'할 때는 = 두개(==)\n",
    "\n",
    "#4.  != : 다르다\n",
    "print(\"3!=3 : \",3!=3)\n",
    "print(\"3!=4 : \",3!=4)\n",
    "\n",
    "# 5. and : 연결된 조건이 모두 Ture일때 True, 하나라도 False면 False\n",
    "print(\"3==3 and 4==4 : \", (3==3) and (4==4))\n",
    "print(\"3==3 and 4!=4 : \", (3==3) and (4!=4))\n",
    "print(\"3=!3 and 4!=4 : \", (3!=3) and (4!=4))\n",
    "\n",
    "#6. or : 연결된 조건이 하나라도 True면 True, 모두 False면 False\n",
    "print(\"3==3 or 4==4 : \", (3==3) or (4==4))\n",
    "print(\"3==3 or 4!=4 : \", (3==3) or (4!=4))\n",
    "print(\"3=!3 or 4!=4 : \", (3!=3) or (4!=4))\n",
    "\n",
    "#7. not : 괄호 안이 True면 False, 괄호 안이 False면 True\n",
    "print(\"not((3==3) and (4==4)) : \", not((3==3) and (4==4)))\n",
    "print(\"not((3==3) and (4!=4)): \", not((3==3) and (4!=4)))"
   ]
  },
  {
   "cell_type": "markdown",
   "metadata": {},
   "source": [
    "# 제어문\n",
    "프로그램 실행 순서\n",
    "- 기본 : 위에서 아래쪽으로 코드를 한줄씩 수행\n",
    "- 제어문 : 위에서 아래로 향하는 흐름을 바꾸기 위한 방법\n",
    "    - 조건문: 조건이 만족할 때만 수행(1회)\n",
    "    - 반복문: 조건미 만족할 경우 반복해서 수행\n",
    "    \n",
    "## 조건문\n",
    "### 조건문의 구조 1"
   ]
  },
  {
   "cell_type": "code",
   "execution_count": null,
   "metadata": {},
   "outputs": [],
   "source": [
    "if conditions :\n",
    "    true_statements\n",
    "next_statement"
   ]
  },
  {
   "cell_type": "markdown",
   "metadata": {},
   "source": [
    "- conditions 가 True일 때 : true_statements가 실행됨\n",
    "- next_statement\n",
    "    - conditions가 True일 때 : true_statements가 실행되고 실행됨\n",
    "    - conditions가 False일 때 : true_statements가 실행되지 않고 next_statement가 실행됨"
   ]
  },
  {
   "cell_type": "code",
   "execution_count": 2,
   "metadata": {},
   "outputs": [
    {
     "name": "stdout",
     "output_type": "stream",
     "text": [
      "3\n"
     ]
    }
   ],
   "source": [
    "#예시\n",
    "a = 2\n",
    "b = 3\n",
    "\n",
    "if a % 2 == 1:\n",
    "    print(a)\n",
    "if b % 2 == 1 :\n",
    "    print(b)"
   ]
  },
  {
   "cell_type": "markdown",
   "metadata": {},
   "source": [
    "### 조건문의 구조 2"
   ]
  },
  {
   "cell_type": "code",
   "execution_count": null,
   "metadata": {},
   "outputs": [],
   "source": [
    "if conditions :\n",
    "    true_statements\n",
    "else:\n",
    "    false_statements\n",
    "next_statement"
   ]
  },
  {
   "cell_type": "markdown",
   "metadata": {},
   "source": [
    "- conditions가 True일 때 : true_statements가 실행됨\n",
    "- conditions가 False일 때 : false_statements가 실행됨 \n",
    "- next_statement\n",
    "    - conditions가 True일 때 : true_statements가 실행되고나서 실행됨\n",
    "    - conditions가 False일 때 : false_statements가 실행되고 나서 실행 됨"
   ]
  },
  {
   "cell_type": "code",
   "execution_count": 1,
   "metadata": {},
   "outputs": [
    {
     "name": "stdout",
     "output_type": "stream",
     "text": [
      "짝수입니다.\n",
      "3\n"
     ]
    }
   ],
   "source": [
    "#예시\n",
    "a = 2\n",
    "b = 3\n",
    "\n",
    "if a % 2 == 1:\n",
    "    print(a)\n",
    "else :\n",
    "    print(\"짝수입니다.\")\n",
    "if b % 2 == 1 :\n",
    "    print(b)\n",
    "else :\n",
    "    print(\"짝수입니다.\")"
   ]
  },
  {
   "cell_type": "markdown",
   "metadata": {},
   "source": [
    "### 조건문의 구조 3"
   ]
  },
  {
   "cell_type": "code",
   "execution_count": null,
   "metadata": {},
   "outputs": [],
   "source": [
    "#1\n",
    "if conditions1 :\n",
    "    if_statements1\n",
    "else:\n",
    "    if conditions2:\n",
    "        if_statements2\n",
    "    else:\n",
    "        if_statements3\n",
    "next_statement"
   ]
  },
  {
   "cell_type": "code",
   "execution_count": null,
   "metadata": {},
   "outputs": [],
   "source": [
    "#2\n",
    "if conditions1:\n",
    "    if_statements1\n",
    "elif condtions2:\n",
    "    if_statements2\n",
    "else:\n",
    "    if_statements3\n",
    "next_statements"
   ]
  },
  {
   "cell_type": "markdown",
   "metadata": {},
   "source": [
    "- 위 둘은 같은 형태\n",
    "- 조건문 condition1이 수행되고 나서 True면 if_statements1이 실행, False면 conditions2 조건문 실행\n",
    "- conditions2 가 Treu면 if_statements2실행, False면 if_statements3실행\n",
    "- if_statements3은 모든 조건문이 False일때 실행\n",
    "- elif는 else if의 줄임말\n",
    "- 만약 ~이면 ~이고 아니면 ~이고 그래도 아니면 ~임의 뜻\n",
    "- next_statements는 if~elif~else문이 모두 실행된 후에 실행됨"
   ]
  },
  {
   "cell_type": "code",
   "execution_count": 2,
   "metadata": {},
   "outputs": [
    {
     "name": "stdout",
     "output_type": "stream",
     "text": [
      "나머지로 2가 남는다\n"
     ]
    }
   ],
   "source": [
    "#예\n",
    "\n",
    "a=2\n",
    "if a % 3 ==0:\n",
    "    print(\"3의 배수\")\n",
    "elif a % 3 == 1 :\n",
    "    print(\"나머지로 1이 남는다\")\n",
    "else :\n",
    "    print(\"나머지로 2가 남는다\")\n"
   ]
  },
  {
   "cell_type": "markdown",
   "metadata": {},
   "source": [
    "## 반복문 : while\n",
    "조건이 만족할 경우 반복해서 실행\n",
    "### 반복문 기본형\n"
   ]
  },
  {
   "cell_type": "code",
   "execution_count": null,
   "metadata": {},
   "outputs": [],
   "source": [
    "while conditions:\n",
    "    true_statements\n",
    "next_statements"
   ]
  },
  {
   "cell_type": "markdown",
   "metadata": {},
   "source": [
    "- conditions이 Ture면 true_statements가 계속 실행됨\n",
    "- 만약 conditions이 False면 true_statements가 실행되지 않고 next_statements가 실행됨\n",
    "- if와 차이점\n",
    "    - if : condition이 참일때 true_statements가 1번 실행됨\n",
    "    - while : condition이 참일때 true_statements가 반복해서 실행됨\n"
   ]
  },
  {
   "cell_type": "markdown",
   "metadata": {},
   "source": [
    "- 보통 반복하고 싶은 횟수가 정해진 경우가 많음 -> condition이 false가 될 수 있는 조건을 줌\n",
    "\n"
   ]
  },
  {
   "cell_type": "code",
   "execution_count": 1,
   "metadata": {},
   "outputs": [
    {
     "name": "stdout",
     "output_type": "stream",
     "text": [
      "0 . 파이썬 재미있다\n",
      "1 . 파이썬 재미있다\n",
      "2 . 파이썬 재미있다\n",
      "3 . 파이썬 재미있다\n",
      "4 . 파이썬 재미있다\n",
      "count =  5\n"
     ]
    }
   ],
   "source": [
    "#예시\n",
    "count = 0\n",
    "while count <5 :\n",
    "    print(count, \". 파이썬 재미있다\")\n",
    "    count = count+1\n",
    "print(\"count = \", count)"
   ]
  },
  {
   "cell_type": "code",
   "execution_count": 3,
   "metadata": {},
   "outputs": [
    {
     "name": "stdout",
     "output_type": "stream",
     "text": [
      "1  :  1\n",
      "2  :  3\n",
      "3  :  6\n",
      "4  :  10\n",
      "5  :  15\n",
      "6  :  21\n",
      "7  :  28\n",
      "8  :  36\n",
      "9  :  45\n",
      "10  :  55\n",
      "total :  55\n"
     ]
    }
   ],
   "source": [
    "#예시 : 1부터 10까지 합을 구하는 프로그램\n",
    "total =0\n",
    "count = 1\n",
    "while count <11:\n",
    "    total = total + count\n",
    "    print(count, \" : \", total)\n",
    "    count = count+1\n",
    "    \n",
    "print(\"total : \", total)\n",
    "    "
   ]
  },
  {
   "cell_type": "markdown",
   "metadata": {},
   "source": [
    "### 반복문을 사용하면서 중간에 특정 조건일 때 어떤 작동을 하게 하는 방법\n",
    "1. break :특정 조건에서 반복문을 중단하고 싶을 때"
   ]
  },
  {
   "cell_type": "code",
   "execution_count": 2,
   "metadata": {},
   "outputs": [
    {
     "name": "stdout",
     "output_type": "stream",
     "text": [
      "1\n",
      "2\n",
      "count is 3\n"
     ]
    }
   ],
   "source": [
    "#예시 - while문을 6번 돌리고 싶지만 \n",
    "#중간에 3횟째 됐을 때 while문을 종료\n",
    "count = 0\n",
    "while count <6 :\n",
    "    count =count+1\n",
    "    if count ==3 :\n",
    "        break\n",
    "    print(count)\n",
    "print(\"count is 3\")"
   ]
  },
  {
   "cell_type": "code",
   "execution_count": 9,
   "metadata": {},
   "outputs": [],
   "source": [
    "unkown = 43"
   ]
  },
  {
   "cell_type": "code",
   "execution_count": 11,
   "metadata": {},
   "outputs": [
    {
     "name": "stdout",
     "output_type": "stream",
     "text": [
      "findNumber :  43\n"
     ]
    }
   ],
   "source": [
    "findNumber=0\n",
    "while findNumber < 60:\n",
    "    if findNumber == unkown:\n",
    "        break\n",
    "    findNumber +=1\n",
    "print(\"findNumber : \",findNumber)"
   ]
  },
  {
   "cell_type": "code",
   "execution_count": 12,
   "metadata": {},
   "outputs": [
    {
     "name": "stdout",
     "output_type": "stream",
     "text": [
      "동전을 넣으세요: 600\n",
      "현재 금액: 600 원\n",
      "음료를 선택하세요(콜라 :0,사이다:1,거스름돈받기:2): 2\n",
      "거스름돈 :  600 원\n"
     ]
    }
   ],
   "source": [
    "# 예시 - 자판기의 환불하기\n",
    "coin = int(input(\"동전을 넣으세요: \"))\n",
    "while coin >= 500 :\n",
    "    print(\"현재 금액:\",coin, \"원\")\n",
    "    drink = int(input(\"음료를 선택하세요(콜라 :0,사이다:1,거스름돈받기:2): \"))\n",
    "    if drink == 0:print(\"콜라가 나왔습니다\")\n",
    "    elif drink == 1:print(\"사이다가 나왔습니다\")\n",
    "    else : break\n",
    "    print()\n",
    "    coin-=500\n",
    "print(\"거스름돈 : \",coin,\"원\")\n"
   ]
  },
  {
   "cell_type": "markdown",
   "metadata": {},
   "source": [
    "2. continue : 특정 조건에서 작동을 수행하지 않고 넘어가고 싶을때 "
   ]
  },
  {
   "cell_type": "code",
   "execution_count": 6,
   "metadata": {
    "scrolled": true
   },
   "outputs": [
    {
     "name": "stdout",
     "output_type": "stream",
     "text": [
      "1\n",
      "2\n",
      "4\n",
      "5\n",
      "6\n",
      "3을 건너뛰었습니다\n"
     ]
    }
   ],
   "source": [
    "#예시 - while을 6번 반복하지만 3회째는 작동을 하고 싶지 않을 때\n",
    "count = 0\n",
    "while count <6 :\n",
    "    count =count+1\n",
    "    if count ==3 :\n",
    "        continue\n",
    "    print(count)\n",
    "print(\"3을 건너뛰었습니다\")"
   ]
  },
  {
   "cell_type": "markdown",
   "metadata": {},
   "source": [
    "## 반복문 for\n",
    "반복문 for은 반복문 while로서 쓸 코드를 좀더 쉽게 쓸 수 있게 하는 문법입니다"
   ]
  },
  {
   "cell_type": "code",
   "execution_count": null,
   "metadata": {},
   "outputs": [],
   "source": [
    "# while\n",
    "변수 = 시작\n",
    "while 변수 <끝 :\n",
    "    for_statement\n",
    "    변수 +=증감\n",
    "next_statement"
   ]
  },
  {
   "cell_type": "code",
   "execution_count": null,
   "metadata": {},
   "outputs": [],
   "source": [
    "#for\n",
    "for 변수 in range(시작, 끝, 증감):\n",
    "    for_statemenet\n",
    "next_statement"
   ]
  },
  {
   "cell_type": "markdown",
   "metadata": {},
   "source": [
    "- while문에서 while문 밖에서 선언해오구 내부에서 조건과 증감하며 사용하는 변수는 for문에서 조건으로 바로 들어가는대신 시작과 끝의 범위를 정해줍니다. 증감을 적어주는 경우도 있지만 쓰지 않을 경우 1을 의미합니다.\n",
    "- while문은 조건이 참이어야 for_statement가 실행될수 잇었지만 for문은 그렇지 않습니다. for문은 실행여부에 대한 조건이라기보다 실행횟수 자체를 나타낸다고 보시면 됩니다."
   ]
  },
  {
   "cell_type": "code",
   "execution_count": 4,
   "metadata": {},
   "outputs": [
    {
     "name": "stdout",
     "output_type": "stream",
     "text": [
      "while문으로 3단 구구단\n",
      "3 * 2 = 6\n",
      "3 * 3 = 9\n",
      "3 * 4 = 12\n",
      "3 * 5 = 15\n",
      "3 * 6 = 18\n",
      "3 * 7 = 21\n",
      "3 * 8 = 24\n",
      "3 * 9 = 27\n"
     ]
    }
   ],
   "source": [
    "#예시 - while문으로 구구단 3단\n",
    "m = 3\n",
    "n = 2\n",
    "print(\"<while문으로 3단 구구단>\")\n",
    "while n <10:\n",
    "    print(m,\"*\",n,\"=\",m*n)\n",
    "    n+=1"
   ]
  },
  {
   "cell_type": "code",
   "execution_count": 5,
   "metadata": {},
   "outputs": [
    {
     "name": "stdout",
     "output_type": "stream",
     "text": [
      "<for문으로 3단 구구단>\n",
      "3 * 2 = 6\n",
      "3 * 3 = 9\n",
      "3 * 4 = 12\n",
      "3 * 5 = 15\n",
      "3 * 6 = 18\n",
      "3 * 7 = 21\n",
      "3 * 8 = 24\n",
      "3 * 9 = 27\n"
     ]
    }
   ],
   "source": [
    "#예시 - for문으로 구구단 3단\n",
    "m=3\n",
    "print(\"<for문으로 3단 구구단>\")\n",
    "for n in range(2,10):\n",
    "    print(m,\"*\",n,\"=\",m*n)"
   ]
  },
  {
   "cell_type": "markdown",
   "metadata": {},
   "source": [
    "while문에서 썼던 것처럼 continue와 break 모두 사용 가능"
   ]
  },
  {
   "cell_type": "code",
   "execution_count": 13,
   "metadata": {},
   "outputs": [
    {
     "name": "stdout",
     "output_type": "stream",
     "text": [
      "<for문으로 3단 구구단>\n",
      "3 * 2 = 6\n",
      "3 * 3 = 9\n",
      "3 * 4 = 12\n"
     ]
    }
   ],
   "source": [
    "#예시 - break사용\n",
    "m=3\n",
    "print(\"<for문으로 3단 구구단>\")\n",
    "for n in range(2,10):\n",
    "    if n == 5 :\n",
    "        break\n",
    "    print(m,\"*\",n,\"=\",m*n)\n"
   ]
  },
  {
   "cell_type": "code",
   "execution_count": 14,
   "metadata": {},
   "outputs": [
    {
     "name": "stdout",
     "output_type": "stream",
     "text": [
      "<for문으로 3단 구구단>\n",
      "3 * 2 = 6\n",
      "3 * 3 = 9\n",
      "3 * 5 = 15\n",
      "3 * 6 = 18\n",
      "3 * 7 = 21\n",
      "3 * 8 = 24\n",
      "3 * 9 = 27\n"
     ]
    }
   ],
   "source": [
    "#예시 - continue사용\n",
    "m=3\n",
    "print(\"<for문으로 3단 구구단>\")\n",
    "for n in range(2,10):\n",
    "    if n == 4 :\n",
    "        continue\n",
    "    print(m,\"*\",n,\"=\",m*n)\n"
   ]
  },
  {
   "cell_type": "markdown",
   "metadata": {},
   "source": [
    "# 자료형 list\n",
    "- list는 요소들의 모음 , 순서있고, 중복 있고, 서로 다른 type들의 모음도 가능\n",
    "## list "
   ]
  },
  {
   "cell_type": "code",
   "execution_count": 1,
   "metadata": {},
   "outputs": [],
   "source": [
    "a=[1,2,3,4,5]\n",
    "b=[2,2,25,6]\n",
    "c=[\"aa\",\"bb\",\"cc\",\"dd\"]\n",
    "d=[1,2,[1,2],\"ab\"]"
   ]
  },
  {
   "cell_type": "markdown",
   "metadata": {},
   "source": [
    "- 관련 연산자 : string에서 사용하는 연산방법과 동일"
   ]
  },
  {
   "cell_type": "code",
   "execution_count": 2,
   "metadata": {},
   "outputs": [
    {
     "data": {
      "text/plain": [
       "[1, 2, 3, 4, 5, 6]"
      ]
     },
     "execution_count": 2,
     "metadata": {},
     "output_type": "execute_result"
    }
   ],
   "source": [
    "# + 연산자 : 리스트 + 리스트\n",
    "a_list=[1,2,3]\n",
    "b_list=[4,5,6]\n",
    "a_list+b_list"
   ]
  },
  {
   "cell_type": "code",
   "execution_count": 3,
   "metadata": {},
   "outputs": [
    {
     "data": {
      "text/plain": [
       "[1, 2, 3, 1, 2, 3, 1, 2, 3]"
      ]
     },
     "execution_count": 3,
     "metadata": {},
     "output_type": "execute_result"
    }
   ],
   "source": [
    "# * 연산자 : 리스트 * 0과 음수가 아닌 정수\n",
    "a_list=[1,2,3]\n",
    "a_list*3"
   ]
  },
  {
   "cell_type": "markdown",
   "metadata": {},
   "source": [
    "## list 부분 정보 활용하기\n",
    "### 리스트 인덱싱\n",
    "- 리스트의 요소 하나하나에는 순서가 있음 : 0부터 시작\n",
    "- 인덱싱은 리스트의 요소 하나를 선택하는것 -> 리스트명[요소위치]\n",
    "- 왼쪽부터 0,1,2,..로 증가\n",
    "- 오른쪽에서 -1,-2,-3,..로 감소\n",
    "- 문자열 인덱싱도 같은방식으로 진행됨\n"
   ]
  },
  {
   "cell_type": "code",
   "execution_count": 18,
   "metadata": {},
   "outputs": [
    {
     "name": "stdout",
     "output_type": "stream",
     "text": [
      "a[0] :  1\n",
      "a[1] :  2\n",
      "a[2] :  3\n",
      "a[-1] :  3\n",
      "a[-2] :  2\n",
      "a[-3] :  1\n"
     ]
    }
   ],
   "source": [
    "a = [1,2,3]\n",
    "print(\"a[0] : \",a[0])\n",
    "print(\"a[1] : \",a[1])\n",
    "print(\"a[2] : \",a[2])\n",
    "print(\"a[-1] : \",a[-1])\n",
    "print(\"a[-2] : \",a[-2])\n",
    "print(\"a[-3] : \",a[-3])"
   ]
  },
  {
   "cell_type": "code",
   "execution_count": 19,
   "metadata": {},
   "outputs": [
    {
     "name": "stdout",
     "output_type": "stream",
     "text": [
      "b[0] :  1\n",
      "b[1] :  2\n",
      "b[2] :  3\n",
      "b[-1] :  3\n",
      "b[-2] :  2\n",
      "b[-3] :  1\n"
     ]
    }
   ],
   "source": [
    "b=\"123\"\n",
    "print(\"b[0] : \",b[0])\n",
    "print(\"b[1] : \",b[1])\n",
    "print(\"b[2] : \",b[2])\n",
    "print(\"b[-1] : \",b[-1])\n",
    "print(\"b[-2] : \",b[-2])\n",
    "print(\"b[-3] : \",b[-3])"
   ]
  },
  {
   "cell_type": "markdown",
   "metadata": {},
   "source": [
    "### 리스트 슬라이싱\n",
    "- 리스트의 일부분을 잘라내는 것\n",
    "- 인덱싱은 리스트의 요소 하나를 가져오는 것이었다면 슬라이싱은 여러 요소를 가져오는것\n",
    "- 리스트명[시작위치:끝위치:증감정도]\n",
    "    - 시작 : 범위의 시작, 생략시 0\n",
    "    - 끝 : 범위의 끝, 생략 시 리스트의 크기(리스트 끝까지 포함)\n",
    "    - 증감: 자료를 가져오는 간격, 보통 생략시 1 의미\n",
    "- 문자열 슬라이싱도 비슷함\n",
    "    "
   ]
  },
  {
   "cell_type": "code",
   "execution_count": 20,
   "metadata": {},
   "outputs": [
    {
     "name": "stdout",
     "output_type": "stream",
     "text": [
      "a[0:2] :  [0, 1]\n",
      "a[:2] :  [0, 1]\n",
      "a[2:] :  [2, 3, 4, 5]\n",
      "a[:4:2] :  [0, 2]\n",
      "a[-4::2] :  [2, 4]\n",
      "a[-3:] :  [3, 4, 5]\n",
      "a[:-3] :  [0, 1, 2]\n"
     ]
    }
   ],
   "source": [
    "a=[0,1,2,3,4,5]\n",
    "print(\"a[0:2] : \",a[0:2])\n",
    "print(\"a[:2] : \",a[:2])\n",
    "print(\"a[2:] : \",a[2:])\n",
    "print(\"a[:4:2] : \",a[:4:2])\n",
    "print(\"a[-4::2] : \",a[-4::2])\n",
    "print(\"a[-3:] : \",a[-3:])\n",
    "print(\"a[:-3] : \",a[:-3])"
   ]
  },
  {
   "cell_type": "markdown",
   "metadata": {},
   "source": [
    "## 문자열을 리스트로 \n",
    "1. list 함수 : list(문자열) : 문자열을 한 글자씩 분리해서 리스트를 생성함"
   ]
  },
  {
   "cell_type": "code",
   "execution_count": 42,
   "metadata": {},
   "outputs": [
    {
     "data": {
      "text/plain": [
       "['1', '2', '3', '4', '5']"
      ]
     },
     "execution_count": 42,
     "metadata": {},
     "output_type": "execute_result"
    }
   ],
   "source": [
    "list('12345')"
   ]
  },
  {
   "cell_type": "code",
   "execution_count": 22,
   "metadata": {},
   "outputs": [
    {
     "data": {
      "text/plain": [
       "['a', 'b', 'c', 'd', 'e']"
      ]
     },
     "execution_count": 22,
     "metadata": {},
     "output_type": "execute_result"
    }
   ],
   "source": [
    "list('abcde')"
   ]
  },
  {
   "cell_type": "markdown",
   "metadata": {},
   "source": [
    "2. split 함수 : split(나눌 기준이 되는 문자 or 공백) : 괄호 안에 있는 문자(or 공백)을 기준으로 문자열을 나눠 리스트를 만든다"
   ]
  },
  {
   "cell_type": "code",
   "execution_count": 23,
   "metadata": {},
   "outputs": [
    {
     "data": {
      "text/plain": [
       "['1', '2', '3', '4', '5']"
      ]
     },
     "execution_count": 23,
     "metadata": {},
     "output_type": "execute_result"
    }
   ],
   "source": [
    "a='1 2 3 4 5'\n",
    "a.split()"
   ]
  },
  {
   "cell_type": "code",
   "execution_count": 25,
   "metadata": {},
   "outputs": [
    {
     "data": {
      "text/plain": [
       "['1', '2', '3', '4', '5']"
      ]
     },
     "execution_count": 25,
     "metadata": {},
     "output_type": "execute_result"
    }
   ],
   "source": [
    "b='1:2:3:4:5'\n",
    "b.split(':')"
   ]
  },
  {
   "cell_type": "markdown",
   "metadata": {},
   "source": [
    "### 요소 추가하기"
   ]
  },
  {
   "cell_type": "code",
   "execution_count": 30,
   "metadata": {},
   "outputs": [
    {
     "data": {
      "text/plain": [
       "[1, 2, 3, 4]"
      ]
     },
     "execution_count": 30,
     "metadata": {},
     "output_type": "execute_result"
    }
   ],
   "source": [
    "#리스트.append(추가할요소) : 리스트의 마지막에 요소를 추가\n",
    "a=[1,2,3]\n",
    "a.append(4)\n",
    "a"
   ]
  },
  {
   "cell_type": "code",
   "execution_count": 33,
   "metadata": {},
   "outputs": [
    {
     "data": {
      "text/plain": [
       "[1, 2, 3, 4, 'a', 'b']"
      ]
     },
     "execution_count": 33,
     "metadata": {},
     "output_type": "execute_result"
    }
   ],
   "source": [
    "#리스트.extend(추가할리스트) : 리스트 마지막에 추가할 리스트를 추가\n",
    "b=[1,2,3,4]\n",
    "c=['a','b']\n",
    "b.extend(c)\n",
    "b"
   ]
  },
  {
   "cell_type": "code",
   "execution_count": 36,
   "metadata": {},
   "outputs": [
    {
     "data": {
      "text/plain": [
       "[1, 2, 5, 3, 4]"
      ]
     },
     "execution_count": 36,
     "metadata": {},
     "output_type": "execute_result"
    }
   ],
   "source": [
    "#리스트.insert(index,요소) : 리스트의 특정 위치(index)에 요소를 추가\n",
    "d=[1,2,3,4]\n",
    "d.insert(2,5)\n",
    "d"
   ]
  },
  {
   "cell_type": "markdown",
   "metadata": {},
   "source": [
    "### 요소 제거하기"
   ]
  },
  {
   "cell_type": "code",
   "execution_count": 37,
   "metadata": {},
   "outputs": [
    {
     "data": {
      "text/plain": [
       "[1, 2, 4]"
      ]
     },
     "execution_count": 37,
     "metadata": {},
     "output_type": "execute_result"
    }
   ],
   "source": [
    "#del 리스트[index] : 리스트의 index에 위치한 요소를 삭제\n",
    "a=[1,2,3,4]\n",
    "del a[2]\n",
    "a"
   ]
  },
  {
   "cell_type": "code",
   "execution_count": 38,
   "metadata": {},
   "outputs": [
    {
     "data": {
      "text/plain": [
       "[2, 3, 1]"
      ]
     },
     "execution_count": 38,
     "metadata": {},
     "output_type": "execute_result"
    }
   ],
   "source": [
    "#리스트.remove(요소) : 리스트 안에 있는 요소 삭제, 만약에 중복된 요소가 있다면 첫번째로 나오는 요소를 삭제\n",
    "a=[1,2,3,1]\n",
    "a.remove(1)\n",
    "a"
   ]
  },
  {
   "cell_type": "markdown",
   "metadata": {},
   "source": [
    "## 반복문 for에 list 사용하기"
   ]
  },
  {
   "cell_type": "code",
   "execution_count": 39,
   "metadata": {},
   "outputs": [
    {
     "name": "stdout",
     "output_type": "stream",
     "text": [
      "1\n",
      "2\n",
      "3\n"
     ]
    }
   ],
   "source": [
    "# 기존에 배웠던 for문\n",
    "for i in range(1,4):\n",
    "    print(i)"
   ]
  },
  {
   "cell_type": "code",
   "execution_count": 41,
   "metadata": {
    "scrolled": true
   },
   "outputs": [
    {
     "name": "stdout",
     "output_type": "stream",
     "text": [
      "3\n",
      "2\n",
      "1\n"
     ]
    }
   ],
   "source": [
    "#range함수 대신 list를 사용하기 : list(or 문자열)내 요소 값을 차례대로 하나씩 가져옴\n",
    "a=[3,2,1,3]\n",
    "for i in a:\n",
    "    print(i)"
   ]
  },
  {
   "cell_type": "markdown",
   "metadata": {},
   "source": [
    "# 자료형 dictionary\n",
    "## dictionary\n",
    "- key와 value의 쌍으로 이루어진 모음\n",
    "- {} 사용 (cf)리스트 : [])"
   ]
  },
  {
   "cell_type": "code",
   "execution_count": 2,
   "metadata": {},
   "outputs": [
    {
     "data": {
      "text/plain": [
       "{'1': 'red', '2': 24, '3': 'm'}"
      ]
     },
     "execution_count": 2,
     "metadata": {},
     "output_type": "execute_result"
    }
   ],
   "source": [
    "# 예시 \n",
    "{'1':'red', '2':24, '3':'m'}"
   ]
  },
  {
   "cell_type": "markdown",
   "metadata": {},
   "source": [
    "- key : 중복하지 않음, list형 불가(변경될 수 있는 데이터형 금지)\n",
    "- value : 숫자, 문자열, 리스트, dictionary 등 대부분의 자료형 가능\n",
    "## value 선택\n",
    "- 키 값으로 value를 선택, (cf)리스트는 인덱스로 번호 시작"
   ]
  },
  {
   "cell_type": "code",
   "execution_count": 3,
   "metadata": {},
   "outputs": [
    {
     "data": {
      "text/plain": [
       "'red'"
      ]
     },
     "execution_count": 3,
     "metadata": {},
     "output_type": "execute_result"
    }
   ],
   "source": [
    "a={'1':'red', '2':24, '3':'m'}\n",
    "a['1']"
   ]
  },
  {
   "cell_type": "markdown",
   "metadata": {},
   "source": [
    "## Dictionary 수정하기"
   ]
  },
  {
   "cell_type": "code",
   "execution_count": 4,
   "metadata": {},
   "outputs": [
    {
     "data": {
      "text/plain": [
       "{'1': 'abc', '2': 24, '3': 'm'}"
      ]
     },
     "execution_count": 4,
     "metadata": {},
     "output_type": "execute_result"
    }
   ],
   "source": [
    "a={'1':'red', '2':24, '3':'m'}\n",
    "#수정\n",
    "a['1']='abc'\n",
    "a"
   ]
  },
  {
   "cell_type": "code",
   "execution_count": 5,
   "metadata": {},
   "outputs": [
    {
     "data": {
      "text/plain": [
       "{'1': 'abc', '2': 24, '3': 'm', 4: 'd'}"
      ]
     },
     "execution_count": 5,
     "metadata": {},
     "output_type": "execute_result"
    }
   ],
   "source": [
    "#추가\n",
    "a[4]='d'\n",
    "a"
   ]
  },
  {
   "cell_type": "code",
   "execution_count": 6,
   "metadata": {},
   "outputs": [
    {
     "data": {
      "text/plain": [
       "{'1': 'abc', '2': 24, 4: 'd'}"
      ]
     },
     "execution_count": 6,
     "metadata": {},
     "output_type": "execute_result"
    }
   ],
   "source": [
    "#삭제\n",
    "del a['3']\n",
    "a"
   ]
  },
  {
   "cell_type": "code",
   "execution_count": 56,
   "metadata": {},
   "outputs": [
    {
     "data": {
      "text/plain": [
       "{}"
      ]
     },
     "execution_count": 56,
     "metadata": {},
     "output_type": "execute_result"
    }
   ],
   "source": [
    "#모두삭제\n",
    "a.clear()\n",
    "a"
   ]
  },
  {
   "cell_type": "markdown",
   "metadata": {},
   "source": [
    "## Dictionary 정보 추출 하기\n",
    "- Key만 얻기 : keys() : dictionary의 key만 모아서 반환\n",
    "- value만 얻기 : values(): dictionary의 value만 모아서 반환"
   ]
  },
  {
   "cell_type": "code",
   "execution_count": 59,
   "metadata": {},
   "outputs": [
    {
     "data": {
      "text/plain": [
       "dict_keys([1, 2, 3])"
      ]
     },
     "execution_count": 59,
     "metadata": {},
     "output_type": "execute_result"
    }
   ],
   "source": [
    "b={1:\"a\",2:\"b\",3:\"c\"}\n",
    "b.keys()"
   ]
  },
  {
   "cell_type": "code",
   "execution_count": 60,
   "metadata": {},
   "outputs": [
    {
     "data": {
      "text/plain": [
       "dict_values(['a', 'b', 'c'])"
      ]
     },
     "execution_count": 60,
     "metadata": {},
     "output_type": "execute_result"
    }
   ],
   "source": [
    "b.values()"
   ]
  },
  {
   "cell_type": "markdown",
   "metadata": {},
   "source": [
    "# 함수\n",
    "- 함수의 일반적 의미 : 입력에 따라 출력이 나오는 대응관계\n",
    "- 프로그래밍에서의 함수\n",
    "    - 코드문장들의 모음\n",
    "    - 함수 사용의 이점\n",
    "        - 반복 작업 용이\n",
    "        - 코드의 재사용 용이\n",
    "        - 캡슐화\n",
    "        - 프로그램의 흐름 파악에 유리"
   ]
  },
  {
   "cell_type": "code",
   "execution_count": null,
   "metadata": {},
   "outputs": [],
   "source": [
    "def 함수명(입력인자):\n",
    "    작동코드\n",
    "    (return 반환값)"
   ]
  },
  {
   "cell_type": "code",
   "execution_count": 8,
   "metadata": {},
   "outputs": [
    {
     "name": "stdout",
     "output_type": "stream",
     "text": [
      "   *\n",
      "  ***\n",
      " *****\n",
      "   *\n",
      "  ***\n",
      " *****\n",
      "   *\n",
      "  ***\n",
      " *****\n"
     ]
    }
   ],
   "source": [
    "# 삼각형을 그리는 예제\n",
    "# 함수를 사용하지 않을 때\n",
    "n = 3\n",
    "for i in range(n):\n",
    "    print(' '*(n-i)+'*'*(i*2+1))\n",
    "    \n",
    "n = 3\n",
    "for i in range(n):\n",
    "    print(' '*(n-i)+'*'*(i*2+1))\n",
    "    \n",
    "n = 3\n",
    "for i in range(n):\n",
    "    print(' '*(n-i)+'*'*(i*2+1))"
   ]
  },
  {
   "cell_type": "code",
   "execution_count": 9,
   "metadata": {},
   "outputs": [
    {
     "name": "stdout",
     "output_type": "stream",
     "text": [
      "   *\n",
      "  ***\n",
      " *****\n",
      "   *\n",
      "  ***\n",
      " *****\n",
      "   *\n",
      "  ***\n",
      " *****\n"
     ]
    }
   ],
   "source": [
    "# 함수를 사용할 때\n",
    "def drawTriangle():\n",
    "    n=3\n",
    "    for i in range(n):\n",
    "        print(' '*(n-i)+'*'*(i*2+1))\n",
    "        \n",
    "drawTriangle()\n",
    "drawTriangle()\n",
    "drawTriangle()"
   ]
  },
  {
   "cell_type": "code",
   "execution_count": 11,
   "metadata": {},
   "outputs": [
    {
     "name": "stdout",
     "output_type": "stream",
     "text": [
      "56kg, 160cm BMI :  21.874999999999996\n",
      "63kg, 177cm BMI :  20.109164033323754\n",
      "80kg, 185cm BMI :  23.37472607742878\n"
     ]
    }
   ],
   "source": [
    "def getBMI(w,h):\n",
    "    return w/h**2\n",
    "\n",
    "print(\"56kg, 160cm BMI : \",getBMI(56,1.6))\n",
    "print(\"63kg, 177cm BMI : \",getBMI(63,1.77))\n",
    "print(\"80kg, 185cm BMI : \",getBMI(80,1.85))\n"
   ]
  },
  {
   "cell_type": "code",
   "execution_count": null,
   "metadata": {},
   "outputs": [],
   "source": []
  }
 ],
 "metadata": {
  "kernelspec": {
   "display_name": "Python 3",
   "language": "python",
   "name": "python3"
  },
  "language_info": {
   "codemirror_mode": {
    "name": "ipython",
    "version": 3
   },
   "file_extension": ".py",
   "mimetype": "text/x-python",
   "name": "python",
   "nbconvert_exporter": "python",
   "pygments_lexer": "ipython3",
   "version": "3.8.1"
  },
  "toc": {
   "base_numbering": 1,
   "nav_menu": {
    "height": "179px",
    "width": "167px"
   },
   "number_sections": true,
   "sideBar": true,
   "skip_h1_title": false,
   "title_cell": "Table of Contents",
   "title_sidebar": "Contents",
   "toc_cell": false,
   "toc_position": {},
   "toc_section_display": true,
   "toc_window_display": false
  }
 },
 "nbformat": 4,
 "nbformat_minor": 4
}
